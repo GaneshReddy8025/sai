{
  "nbformat": 4,
  "nbformat_minor": 0,
  "metadata": {
    "colab": {
      "name": "Assignment_programs_display.ipby",
      "provenance": [],
      "collapsed_sections": [],
      "authorship_tag": "ABX9TyMivtGvBLYTKikYl8+oGcbv",
      "include_colab_link": true
    },
    "kernelspec": {
      "name": "python3",
      "display_name": "Python 3"
    }
  },
  "cells": [
    {
      "cell_type": "markdown",
      "metadata": {
        "id": "view-in-github",
        "colab_type": "text"
      },
      "source": [
        "<a href=\"https://colab.research.google.com/github/GaneshReddy8025/sai/blob/master/Assignment_programs_display.ipynb\" target=\"_parent\"><img src=\"https://colab.research.google.com/assets/colab-badge.svg\" alt=\"Open In Colab\"/></a>"
      ]
    },
    {
      "cell_type": "code",
      "metadata": {
        "id": "E5vt0Qwpdttb",
        "colab_type": "code",
        "colab": {
          "base_uri": "https://localhost:8080/",
          "height": 68
        },
        "outputId": "d33c3622-cdb9-4e1f-c9d2-36693379cdf7"
      },
      "source": [
        " str1='Python Exercises\\n'\n",
        "print(str1)\n",
        "print(str1.rstrip())"
      ],
      "execution_count": null,
      "outputs": [
        {
          "output_type": "stream",
          "text": [
            "Python Exercises\n",
            "\n",
            "Python Exercises\n"
          ],
          "name": "stdout"
        }
      ]
    },
    {
      "cell_type": "code",
      "metadata": {
        "id": "tI4fTzgcesLU",
        "colab_type": "code",
        "colab": {
          "base_uri": "https://localhost:8080/",
          "height": 68
        },
        "outputId": "1c333fda-7207-4a83-9b47-23e6a6440709"
      },
      "source": [
        " str1 = 'The quick brown fox jumps over the lazy dog.'\n",
        "print()\n",
        "print(str1.count(\"fox\"))\n",
        "print()"
      ],
      "execution_count": 2,
      "outputs": [
        {
          "output_type": "stream",
          "text": [
            "\n",
            "1\n",
            "\n"
          ],
          "name": "stdout"
        }
      ]
    },
    {
      "cell_type": "code",
      "metadata": {
        "id": "CCisOR1AfTVK",
        "colab_type": "code",
        "colab": {
          "base_uri": "https://localhost:8080/",
          "height": 71
        },
        "outputId": "dd6dab87-505a-493d-ab3d-bd4e027728f0"
      },
      "source": [
        " str1 = \"The quick brown fox jumps over the lazy dog.\"\n",
        "print(str1.split(' '))\n",
        "str1 = \"The-quick-brown-fox-jumps-over-the-lazy-dog.\"\n",
        "print(str1.split('-'))"
      ],
      "execution_count": 3,
      "outputs": [
        {
          "output_type": "stream",
          "text": [
            "['The', 'quick', 'brown', 'fox', 'jumps', 'over', 'the', 'lazy', 'dog.']\n",
            "['The', 'quick', 'brown', 'fox', 'jumps', 'over', 'the', 'lazy', 'dog.']\n"
          ],
          "name": "stdout"
        }
      ]
    },
    {
      "cell_type": "code",
      "metadata": {
        "id": "kjnEiOQRf-Dw",
        "colab_type": "code",
        "colab": {
          "base_uri": "https://localhost:8080/",
          "height": 34
        },
        "outputId": "92d80e33-2c2e-4ef6-e5e0-dba5fe41438d"
      },
      "source": [
        " a = \"refrigerator\"\n",
        "count = 0\n",
        "for i in a:\n",
        "  count = count+1\n",
        "print(count)"
      ],
      "execution_count": 5,
      "outputs": [
        {
          "output_type": "stream",
          "text": [
            "12\n"
          ],
          "name": "stdout"
        }
      ]
    }
  ]
}